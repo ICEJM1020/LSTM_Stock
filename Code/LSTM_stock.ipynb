{
 "cells": [
  {
   "cell_type": "markdown",
   "metadata": {},
   "source": [
    "# 定义股市数据类\n",
    "### 方便数据获取，设置数据获取类\n",
    "### 调用tushare金融数据API"
   ]
  },
  {
   "cell_type": "code",
   "execution_count": 1,
   "metadata": {},
   "outputs": [],
   "source": [
    "import tushare as ts\n",
    "import pandas as pd\n",
    "\n",
    "class StockData(object):\n",
    "    def __init__(self):\n",
    "        self.pro = ts.pro_api('264f9e8a490cc3f2fa69cd654442ba812b45dd5680e706ce6988d818')\n",
    "\n",
    "    def get_data(self,code, start='19900101', end='20190901'):\n",
    "        stock_code = self.tran_code(code)\n",
    "        return self.pro.query('daily', ts_code=stock_code, start_date=start, end_date=end)\n",
    "\n",
    "    def tran_code(self,code):\n",
    "        if code[0:1] == '6':\n",
    "            return code + '.SH'\n",
    "        else:\n",
    "            return code + '.SZ'"
   ]
  },
  {
   "cell_type": "markdown",
   "metadata": {},
   "source": [
    "## 获取数据\n",
    "### 这里以 贵州茅台（600519）为例"
   ]
  },
  {
   "cell_type": "code",
   "execution_count": 2,
   "metadata": {},
   "outputs": [
    {
     "data": {
      "image/png": "[encoded data removed]",
      "text/plain": [
       "<Figure size 432x288 with 1 Axes>"
      ]
     },
     "metadata": {
      "needs_background": "light"
     },
     "output_type": "display_data"
    },
    {
     "name": "stdout",
     "output_type": "stream",
     "text": [
      "(4000, 12)\n"
     ]
    },
    {
     "data": {
      "text/html": [
       "<div>\n",
       "<style scoped>\n",
       "    .dataframe tbody tr th:only-of-type {\n",
       "        vertical-align: middle;\n",
       "    }\n",
       "\n",
       "    .dataframe tbody tr th {\n",
       "        vertical-align: top;\n",
       "    }\n",
       "\n",
       "    .dataframe thead th {\n",
       "        text-align: right;\n",
       "    }\n",
       "</style>\n",
       "<table border=\"1\" class=\"dataframe\">\n",
       "  <thead>\n",
       "    <tr style=\"text-align: right;\">\n",
       "      <th></th>\n",
       "      <th>index</th>\n",
       "      <th>ts_code</th>\n",
       "      <th>trade_date</th>\n",
       "      <th>open</th>\n",
       "      <th>high</th>\n",
       "      <th>low</th>\n",
       "      <th>close</th>\n",
       "      <th>pre_close</th>\n",
       "      <th>change</th>\n",
       "      <th>pct_chg</th>\n",
       "      <th>vol</th>\n",
       "      <th>amount</th>\n",
       "    </tr>\n",
       "  </thead>\n",
       "  <tbody>\n",
       "    <tr>\n",
       "      <th>3995</th>\n",
       "      <td>4</td>\n",
       "      <td>600519.SH</td>\n",
       "      <td>20190826</td>\n",
       "      <td>1113.0</td>\n",
       "      <td>1128.00</td>\n",
       "      <td>1096.68</td>\n",
       "      <td>1102.95</td>\n",
       "      <td>1130.10</td>\n",
       "      <td>-27.15</td>\n",
       "      <td>-2.4024</td>\n",
       "      <td>48497.89</td>\n",
       "      <td>5382792.365</td>\n",
       "    </tr>\n",
       "    <tr>\n",
       "      <th>3996</th>\n",
       "      <td>3</td>\n",
       "      <td>600519.SH</td>\n",
       "      <td>20190827</td>\n",
       "      <td>1117.0</td>\n",
       "      <td>1131.31</td>\n",
       "      <td>1109.00</td>\n",
       "      <td>1109.00</td>\n",
       "      <td>1102.95</td>\n",
       "      <td>6.05</td>\n",
       "      <td>0.5485</td>\n",
       "      <td>52164.21</td>\n",
       "      <td>5830617.878</td>\n",
       "    </tr>\n",
       "    <tr>\n",
       "      <th>3997</th>\n",
       "      <td>2</td>\n",
       "      <td>600519.SH</td>\n",
       "      <td>20190828</td>\n",
       "      <td>1109.0</td>\n",
       "      <td>1123.19</td>\n",
       "      <td>1083.01</td>\n",
       "      <td>1100.11</td>\n",
       "      <td>1109.00</td>\n",
       "      <td>-8.89</td>\n",
       "      <td>-0.8016</td>\n",
       "      <td>47009.67</td>\n",
       "      <td>5169778.985</td>\n",
       "    </tr>\n",
       "    <tr>\n",
       "      <th>3998</th>\n",
       "      <td>1</td>\n",
       "      <td>600519.SH</td>\n",
       "      <td>20190829</td>\n",
       "      <td>1105.0</td>\n",
       "      <td>1118.18</td>\n",
       "      <td>1092.50</td>\n",
       "      <td>1113.10</td>\n",
       "      <td>1100.11</td>\n",
       "      <td>12.99</td>\n",
       "      <td>1.1808</td>\n",
       "      <td>29330.42</td>\n",
       "      <td>3247704.307</td>\n",
       "    </tr>\n",
       "    <tr>\n",
       "      <th>3999</th>\n",
       "      <td>0</td>\n",
       "      <td>600519.SH</td>\n",
       "      <td>20190830</td>\n",
       "      <td>1125.0</td>\n",
       "      <td>1146.00</td>\n",
       "      <td>1123.00</td>\n",
       "      <td>1142.00</td>\n",
       "      <td>1113.10</td>\n",
       "      <td>28.90</td>\n",
       "      <td>2.5964</td>\n",
       "      <td>44890.77</td>\n",
       "      <td>5093877.152</td>\n",
       "    </tr>\n",
       "  </tbody>\n",
       "</table>\n",
       "</div>"
      ],
      "text/plain": [
       "      index    ts_code trade_date    open     high      low    close  \\\n",
       "3995      4  600519.SH   20190826  1113.0  1128.00  1096.68  1102.95   \n",
       "3996      3  600519.SH   20190827  1117.0  1131.31  1109.00  1109.00   \n",
       "3997      2  600519.SH   20190828  1109.0  1123.19  1083.01  1100.11   \n",
       "3998      1  600519.SH   20190829  1105.0  1118.18  1092.50  1113.10   \n",
       "3999      0  600519.SH   20190830  1125.0  1146.00  1123.00  1142.00   \n",
       "\n",
       "      pre_close  change  pct_chg       vol       amount  \n",
       "3995    1130.10  -27.15  -2.4024  48497.89  5382792.365  \n",
       "3996    1102.95    6.05   0.5485  52164.21  5830617.878  \n",
       "3997    1109.00   -8.89  -0.8016  47009.67  5169778.985  \n",
       "3998    1100.11   12.99   1.1808  29330.42  3247704.307  \n",
       "3999    1113.10   28.90   2.5964  44890.77  5093877.152  "
      ]
     },
     "execution_count": 2,
     "metadata": {},
     "output_type": "execute_result"
    }
   ],
   "source": [
    "%matplotlib inline\n",
    "from matplotlib import pyplot as plt\n",
    "from matplotlib.pyplot import MultipleLocator\n",
    "def plot_stock(stock_data):\n",
    "    temp_data = stock_data[['close','high','low','trade_date']]\n",
    "    temp_data = temp_data.iloc[-30:]\n",
    "    temp_data.set_index(['trade_date'], inplace=True)\n",
    "    plt.plot(temp_data['close'],color='orange', label='Close Price')\n",
    "    ax=plt.gca()\n",
    "    x_major_locator=MultipleLocator(5)\n",
    "    ax.xaxis.set_major_locator(x_major_locator)\n",
    "    plt.xticks(rotation=60)\n",
    "    plt.legend(loc='best')\n",
    "    plt.show()\n",
    "\n",
    "stock = StockData()\n",
    "data = stock.get_data(\"600519\")\n",
    "\n",
    "# 从\n",
    "data_test = stock.get_data(\"600519\", start = '20190901',end = '20191201')\n",
    "# 按照时间进行排序\n",
    "data.sort_values(\"trade_date\", inplace=True)\n",
    "data = data.reset_index()\n",
    "plot_stock(data)\n",
    "print(data.shape)\n",
    "data.tail()"
   ]
  },
  {
   "cell_type": "markdown",
   "metadata": {},
   "source": [
    "### 使用数据分析的方法分析数据"
   ]
  },
  {
   "cell_type": "markdown",
   "metadata": {},
   "source": [
    "#### 归一化处理\n",
    "\n",
    "但从数据上来看，后两项数据（成交量和成交额）数量级和前6项数据差距太大"
   ]
  },
  {
   "cell_type": "markdown",
   "metadata": {},
   "source": [
    "#### 分别采用了三种不同的归一化：\n",
    "\n",
    "1、以 __close__ 的为标准，参照 __close__ 的 _max_ 和 _min_ 进行归一\n",
    "\n",
    "2、直接用（-1，1）进行归一\n",
    "\n",
    "3、采用sklearn的标准归一化进行归一\n",
    "\n",
    "实践下来采用标准归一化的效果最好"
   ]
  },
  {
   "cell_type": "code",
   "execution_count": 3,
   "metadata": {},
   "outputs": [
    {
     "name": "stdout",
     "output_type": "stream",
     "text": [
      "(4000, 9)\n"
     ]
    },
    {
     "data": {
      "text/plain": [
       "Text(0, 0.5, 'feature magnitude')"
      ]
     },
     "execution_count": 3,
     "metadata": {},
     "output_type": "execute_result"
    },
    {
     "data": {
      "image/png": "[encoded data removed]",
      "text/plain": [
       "<Figure size 432x288 with 1 Axes>"
      ]
     },
     "metadata": {
      "needs_background": "light"
     },
     "output_type": "display_data"
    }
   ],
   "source": [
    "from sklearn import preprocessing as process\n",
    "# 在数据分析之前先对所有的数据进行分析\n",
    "# 后两项特征的数量级远大于其他项\n",
    "\n",
    "X = data.loc[:,'open':'amount']\n",
    "# X = data.loc[:,'close':'vol']\n",
    "# X = X.drop(columns = ['pct_chg','pre_close'])\n",
    "X = X.values\n",
    "# y = data[\"close\"].values\n",
    "print(X.shape)\n",
    "\n",
    "plt.plot(X.min(axis=0),'v',label='min')\n",
    "plt.plot(X.max(axis=0),'^',label='max')\n",
    "plt.yscale('log')\n",
    "plt.legend(loc='best', fontsize = 14)\n",
    "plt.xlabel('features', fontsize = 14)\n",
    "plt.ylabel('feature magnitude', fontsize = 14)"
   ]
  },
  {
   "cell_type": "code",
   "execution_count": 4,
   "metadata": {},
   "outputs": [
    {
     "data": {
      "image/png": "[encoded data removed]",
      "text/plain": [
       "<Figure size 432x288 with 1 Axes>"
      ]
     },
     "metadata": {
      "needs_background": "light"
     },
     "output_type": "display_data"
    },
    {
     "name": "stdout",
     "output_type": "stream",
     "text": [
      "(4000, 9) (4000,)\n"
     ]
    }
   ],
   "source": [
    "# 训练集数据处理\n",
    "# _max = data['close'].max()\n",
    "# _min = data['close'].min()\n",
    "# scaler = process.MinMaxScaler(feature_range=(_min, _max))\n",
    "# scaler = process.MinMaxScaler(feature_range=(-1, 1))\n",
    "scaler = process.StandardScaler()\n",
    "scaler.fit(X)\n",
    "X_scalerd = scaler.transform(X)\n",
    "y = pd.DataFrame(X_scalerd)[3].values\n",
    "\n",
    "temp_data = pd.DataFrame(X_scalerd)\n",
    "temp_data = temp_data.iloc[-30:]\n",
    "\n",
    "plt.plot(temp_data[3],color='orange', label='Close Price')\n",
    "ax=plt.gca()\n",
    "x_major_locator=MultipleLocator(5)\n",
    "ax.xaxis.set_major_locator(x_major_locator)\n",
    "plt.xticks(rotation=60)\n",
    "plt.legend(loc='best')\n",
    "plt.show()\n",
    "\n",
    "print(X_scalerd.shape, y.shape)"
   ]
  },
  {
   "cell_type": "markdown",
   "metadata": {},
   "source": [
    "### 利用热点图查看相关性\n",
    "\n",
    "发现大体上可以分成三个部分于是乎想用PCA的方法进行降维"
   ]
  },
  {
   "cell_type": "code",
   "execution_count": 7,
   "metadata": {},
   "outputs": [
    {
     "data": {
      "image/png": "[encoded data removed]",
      "text/plain": [
       "<Figure size 864x648 with 2 Axes>"
      ]
     },
     "metadata": {
      "needs_background": "light"
     },
     "output_type": "display_data"
    }
   ],
   "source": [
    "import seaborn as sns\n",
    "def corr_heat(df):\n",
    "    df = df.drop(columns = ['index'])\n",
    "    dfData = abs(df.corr())\n",
    "    plt.subplots(figsize=(12, 9)) # 设置画面大小\n",
    "    sns.heatmap(dfData, annot=True, vmax=1, square=True, cmap=\"Blues\")\n",
    "    # plt.savefig ('./BluesStateRelation.png')\n",
    "    plt.show()\n",
    "\n",
    "corr_heat(data)"
   ]
  },
  {
   "cell_type": "markdown",
   "metadata": {},
   "source": [
    "### 使用PCA的效果确实不好，遂放弃"
   ]
  },
  {
   "cell_type": "code",
   "execution_count": 8,
   "metadata": {},
   "outputs": [],
   "source": [
    "from sklearn.decomposition import PCA\n",
    "import numpy as np"
   ]
  },
  {
   "cell_type": "code",
   "execution_count": 25,
   "metadata": {},
   "outputs": [
    {
     "data": {
      "image/png": "[encoded data removed]",
      "text/plain": [
       "<Figure size 864x288 with 2 Axes>"
      ]
     },
     "metadata": {
      "needs_background": "light"
     },
     "output_type": "display_data"
    },
    {
     "name": "stdout",
     "output_type": "stream",
     "text": [
      "0.9564796431670302\n"
     ]
    }
   ],
   "source": [
    "# 看大体上可以分成3个部分\n",
    "pca = PCA(n_components=3)\n",
    "\n",
    "pca.fit(X_scalerd, y)\n",
    "\n",
    "X_pca = pca.transform(X)\n",
    "plt.matshow(pca.components_, cmap='plasma')\n",
    "plt.colorbar()\n",
    "plt.show()\n",
    "print(np.sum(pca.explained_variance_ratio_))"
   ]
  },
  {
   "cell_type": "markdown",
   "metadata": {},
   "source": [
    "# LSTM模型搭建\n",
    "### 调用keras的LSTM模型"
   ]
  },
  {
   "cell_type": "code",
   "execution_count": 5,
   "metadata": {},
   "outputs": [
    {
     "name": "stderr",
     "output_type": "stream",
     "text": [
      "Using TensorFlow backend.\n"
     ]
    }
   ],
   "source": [
    "from keras.models import Sequential\n",
    "from keras.layers.core import Dense, Dropout, Activation\n",
    "from keras.layers.recurrent import LSTM\n",
    "from keras.models import load_model\n",
    "from keras.layers import RepeatVector\n",
    "import keras"
   ]
  },
  {
   "cell_type": "markdown",
   "metadata": {},
   "source": [
    "## 先采用1-1的方式进行训练"
   ]
  },
  {
   "cell_type": "code",
   "execution_count": 7,
   "metadata": {},
   "outputs": [
    {
     "name": "stdout",
     "output_type": "stream",
     "text": [
      "(3999, 1, 3) (3999, 1, 1)\n"
     ]
    }
   ],
   "source": [
    "# 用t天的数据预测t+1天的，所以把y前移\n",
    "# X有一个会多出来，所以删掉X的最后一个和y的第一个\n",
    "import numpy as np\n",
    "\n",
    "# X_train = X_pca\n",
    "X_train = pd.DataFrame(X_scalerd)[[3,5,7]].values\n",
    "\n",
    "X_train = np.delete(X_train, -1, axis=0)\n",
    "y_train = np.delete(y, [1])\n",
    "\n",
    "\n",
    "X_train = X_train.reshape(X_train.shape[0],1, X_train.shape[1])\n",
    "y_train = y_train.reshape(y_train.shape[0],1, 1)\n",
    "print(X_train.shape, y_train.shape)"
   ]
  },
  {
   "cell_type": "code",
   "execution_count": 54,
   "metadata": {},
   "outputs": [
    {
     "name": "stdout",
     "output_type": "stream",
     "text": [
      "Model: \"sequential_12\"\n",
      "_________________________________________________________________\n",
      "Layer (type)                 Output Shape              Param #   \n",
      "=================================================================\n",
      "lstm_13 (LSTM)               (None, 1, 128)            67584     \n",
      "_________________________________________________________________\n",
      "dense_16 (Dense)             (None, 1, 16)             2064      \n",
      "_________________________________________________________________\n",
      "dense_17 (Dense)             (None, 1, 1)              17        \n",
      "=================================================================\n",
      "Total params: 69,665\n",
      "Trainable params: 69,665\n",
      "Non-trainable params: 0\n",
      "_________________________________________________________________\n"
     ]
    }
   ],
   "source": [
    "model = Sequential()\n",
    "\n",
    "model.add(LSTM(128, input_shape=(X_train.shape[1], X_train.shape[2]), return_sequences=True))\n",
    "\n",
    "model.add(Dense(16,kernel_initializer=\"uniform\",activation='relu'))        \n",
    "model.add(Dense(1,kernel_initializer=\"uniform\",activation='linear'))\n",
    " \n",
    "adam = keras.optimizers.Adam(decay=0.2)\n",
    "model.compile(loss='mae', optimizer='adam', metrics=['accuracy'])\n",
    "model.summary()"
   ]
  },
  {
   "cell_type": "code",
   "execution_count": 55,
   "metadata": {
    "scrolled": true
   },
   "outputs": [
    {
     "name": "stdout",
     "output_type": "stream",
     "text": [
      "(3999, 1, 3) (3999, 1, 1)\n",
      "Epoch 1/100\n",
      " - 1s - loss: 0.6435 - accuracy: 0.0000e+00\n",
      "Epoch 2/100\n",
      " - 0s - loss: 0.3105 - accuracy: 0.0000e+00\n",
      "Epoch 3/100\n",
      " - 0s - loss: 0.1486 - accuracy: 0.0000e+00\n",
      "Epoch 4/100\n",
      " - 0s - loss: 0.1039 - accuracy: 0.0000e+00\n",
      "Epoch 5/100\n",
      " - 0s - loss: 0.1012 - accuracy: 0.0000e+00\n",
      "Epoch 6/100\n",
      " - 0s - loss: 0.0838 - accuracy: 0.0000e+00\n",
      "Epoch 7/100\n",
      " - 0s - loss: 0.0862 - accuracy: 0.0000e+00\n",
      "Epoch 8/100\n",
      " - 0s - loss: 0.0520 - accuracy: 0.0000e+00\n",
      "Epoch 9/100\n",
      " - 0s - loss: 0.0770 - accuracy: 0.0000e+00\n",
      "Epoch 10/100\n",
      " - 0s - loss: 0.0533 - accuracy: 0.0000e+00\n",
      "Epoch 11/100\n",
      " - 0s - loss: 0.0721 - accuracy: 0.0000e+00\n",
      "Epoch 12/100\n",
      " - 0s - loss: 0.0494 - accuracy: 0.0000e+00\n",
      "Epoch 13/100\n",
      " - 0s - loss: 0.0684 - accuracy: 0.0000e+00\n",
      "Epoch 14/100\n",
      " - 0s - loss: 0.0509 - accuracy: 0.0000e+00\n",
      "Epoch 15/100\n",
      " - 0s - loss: 0.0630 - accuracy: 0.0000e+00\n",
      "Epoch 16/100\n",
      " - 0s - loss: 0.0450 - accuracy: 0.0000e+00\n",
      "Epoch 17/100\n",
      " - 0s - loss: 0.0548 - accuracy: 0.0000e+00\n",
      "Epoch 18/100\n",
      " - 0s - loss: 0.0468 - accuracy: 0.0000e+00\n",
      "Epoch 19/100\n",
      " - 0s - loss: 0.0514 - accuracy: 0.0000e+00\n",
      "Epoch 20/100\n",
      " - 0s - loss: 0.0478 - accuracy: 0.0000e+00\n",
      "Epoch 21/100\n",
      " - 0s - loss: 0.0515 - accuracy: 0.0000e+00\n",
      "Epoch 22/100\n",
      " - 0s - loss: 0.0451 - accuracy: 0.0000e+00\n",
      "Epoch 23/100\n",
      " - 0s - loss: 0.0505 - accuracy: 0.0000e+00\n",
      "Epoch 24/100\n",
      " - 0s - loss: 0.0463 - accuracy: 0.0000e+00\n",
      "Epoch 25/100\n",
      " - 0s - loss: 0.0520 - accuracy: 0.0000e+00\n",
      "Epoch 26/100\n",
      " - 0s - loss: 0.0446 - accuracy: 0.0000e+00\n",
      "Epoch 27/100\n",
      " - 0s - loss: 0.0482 - accuracy: 0.0000e+00\n",
      "Epoch 28/100\n",
      " - 0s - loss: 0.0490 - accuracy: 0.0000e+00\n",
      "Epoch 29/100\n",
      " - 0s - loss: 0.0419 - accuracy: 0.0000e+00\n",
      "Epoch 30/100\n",
      " - 0s - loss: 0.0496 - accuracy: 0.0000e+00\n",
      "Epoch 31/100\n",
      " - 0s - loss: 0.0404 - accuracy: 0.0000e+00\n",
      "Epoch 32/100\n",
      " - 0s - loss: 0.0436 - accuracy: 0.0000e+00\n",
      "Epoch 33/100\n",
      " - 0s - loss: 0.0492 - accuracy: 0.0000e+00\n",
      "Epoch 34/100\n",
      " - 0s - loss: 0.0391 - accuracy: 0.0000e+00\n",
      "Epoch 35/100\n",
      " - 0s - loss: 0.0409 - accuracy: 0.0000e+00\n",
      "Epoch 36/100\n",
      " - 0s - loss: 0.0455 - accuracy: 0.0000e+00\n",
      "Epoch 37/100\n",
      " - 0s - loss: 0.0397 - accuracy: 0.0000e+00\n",
      "Epoch 38/100\n",
      " - 0s - loss: 0.0438 - accuracy: 0.0000e+00\n",
      "Epoch 39/100\n",
      " - 0s - loss: 0.0392 - accuracy: 0.0000e+00\n",
      "Epoch 40/100\n",
      " - 0s - loss: 0.0434 - accuracy: 0.0000e+00\n",
      "Epoch 41/100\n",
      " - 0s - loss: 0.0439 - accuracy: 0.0000e+00\n",
      "Epoch 42/100\n",
      " - 0s - loss: 0.0370 - accuracy: 0.0000e+00\n",
      "Epoch 43/100\n",
      " - 0s - loss: 0.0415 - accuracy: 0.0000e+00\n",
      "Epoch 44/100\n",
      " - 0s - loss: 0.0357 - accuracy: 0.0000e+00\n",
      "Epoch 45/100\n",
      " - 0s - loss: 0.0400 - accuracy: 0.0000e+00\n",
      "Epoch 46/100\n",
      " - 0s - loss: 0.0391 - accuracy: 0.0000e+00\n",
      "Epoch 47/100\n",
      " - 0s - loss: 0.0329 - accuracy: 0.0000e+00\n",
      "Epoch 48/100\n",
      " - 0s - loss: 0.0338 - accuracy: 0.0000e+00\n",
      "Epoch 49/100\n",
      " - 0s - loss: 0.0340 - accuracy: 0.0000e+00\n",
      "Epoch 50/100\n",
      " - 0s - loss: 0.0375 - accuracy: 0.0000e+00\n",
      "Epoch 51/100\n",
      " - 0s - loss: 0.0329 - accuracy: 0.0000e+00\n",
      "Epoch 52/100\n",
      " - 0s - loss: 0.0374 - accuracy: 0.0000e+00\n",
      "Epoch 53/100\n",
      " - 0s - loss: 0.0387 - accuracy: 0.0000e+00\n",
      "Epoch 54/100\n",
      " - 0s - loss: 0.0333 - accuracy: 0.0000e+00\n",
      "Epoch 55/100\n",
      " - 0s - loss: 0.0411 - accuracy: 0.0000e+00\n",
      "Epoch 56/100\n",
      " - 0s - loss: 0.0411 - accuracy: 0.0000e+00\n",
      "Epoch 57/100\n",
      " - 0s - loss: 0.0355 - accuracy: 0.0000e+00\n",
      "Epoch 58/100\n",
      " - 0s - loss: 0.0369 - accuracy: 0.0000e+00\n",
      "Epoch 59/100\n",
      " - 0s - loss: 0.0436 - accuracy: 0.0000e+00\n",
      "Epoch 60/100\n",
      " - 0s - loss: 0.0389 - accuracy: 0.0000e+00\n",
      "Epoch 61/100\n",
      " - 0s - loss: 0.0418 - accuracy: 0.0000e+00\n",
      "Epoch 62/100\n",
      " - 0s - loss: 0.0352 - accuracy: 0.0000e+00\n",
      "Epoch 63/100\n",
      " - 0s - loss: 0.0382 - accuracy: 0.0000e+00\n",
      "Epoch 64/100\n",
      " - 0s - loss: 0.0306 - accuracy: 0.0000e+00\n",
      "Epoch 65/100\n",
      " - 0s - loss: 0.0315 - accuracy: 0.0000e+00\n",
      "Epoch 66/100\n",
      " - 0s - loss: 0.0310 - accuracy: 0.0000e+00\n",
      "Epoch 67/100\n",
      " - 0s - loss: 0.0299 - accuracy: 0.0000e+00\n",
      "Epoch 68/100\n",
      " - 0s - loss: 0.0305 - accuracy: 0.0000e+00\n",
      "Epoch 69/100\n",
      " - 0s - loss: 0.0344 - accuracy: 0.0000e+00\n",
      "Epoch 70/100\n",
      " - 0s - loss: 0.0289 - accuracy: 0.0000e+00\n",
      "Epoch 71/100\n",
      " - 0s - loss: 0.0249 - accuracy: 0.0000e+00\n",
      "Epoch 72/100\n",
      " - 0s - loss: 0.0283 - accuracy: 0.0000e+00\n",
      "Epoch 73/100\n",
      " - 0s - loss: 0.0256 - accuracy: 0.0000e+00\n",
      "Epoch 74/100\n",
      " - 0s - loss: 0.0250 - accuracy: 0.0000e+00\n",
      "Epoch 75/100\n",
      " - 0s - loss: 0.0264 - accuracy: 0.0000e+00\n",
      "Epoch 76/100\n",
      " - 0s - loss: 0.0324 - accuracy: 0.0000e+00\n",
      "Epoch 77/100\n",
      " - 0s - loss: 0.0332 - accuracy: 0.0000e+00\n",
      "Epoch 78/100\n",
      " - 0s - loss: 0.0539 - accuracy: 0.0000e+00\n",
      "Epoch 79/100\n",
      " - 0s - loss: 0.0526 - accuracy: 0.0000e+00\n",
      "Epoch 80/100\n",
      " - 0s - loss: 0.0624 - accuracy: 0.0000e+00\n",
      "Epoch 81/100\n",
      " - 0s - loss: 0.0557 - accuracy: 0.0000e+00\n",
      "Epoch 82/100\n",
      " - 0s - loss: 0.0538 - accuracy: 0.0000e+00\n",
      "Epoch 83/100\n",
      " - 0s - loss: 0.0399 - accuracy: 0.0000e+00\n",
      "Epoch 84/100\n",
      " - 0s - loss: 0.0435 - accuracy: 0.0000e+00\n",
      "Epoch 85/100\n",
      " - 0s - loss: 0.0406 - accuracy: 0.0000e+00\n",
      "Epoch 86/100\n",
      " - 0s - loss: 0.0394 - accuracy: 0.0000e+00\n",
      "Epoch 87/100\n",
      " - 0s - loss: 0.0402 - accuracy: 0.0000e+00\n",
      "Epoch 88/100\n",
      " - 0s - loss: 0.0386 - accuracy: 0.0000e+00\n",
      "Epoch 89/100\n",
      " - 0s - loss: 0.0375 - accuracy: 0.0000e+00\n",
      "Epoch 90/100\n",
      " - 0s - loss: 0.0389 - accuracy: 0.0000e+00\n",
      "Epoch 91/100\n",
      " - 0s - loss: 0.0322 - accuracy: 0.0000e+00\n",
      "Epoch 92/100\n",
      " - 0s - loss: 0.0291 - accuracy: 0.0000e+00\n",
      "Epoch 93/100\n",
      " - 0s - loss: 0.0296 - accuracy: 0.0000e+00\n",
      "Epoch 94/100\n",
      " - 0s - loss: 0.0288 - accuracy: 0.0000e+00\n",
      "Epoch 95/100\n",
      " - 0s - loss: 0.0283 - accuracy: 0.0000e+00\n",
      "Epoch 96/100\n",
      " - 0s - loss: 0.0269 - accuracy: 0.0000e+00\n",
      "Epoch 97/100\n",
      " - 0s - loss: 0.0277 - accuracy: 0.0000e+00\n",
      "Epoch 98/100\n",
      " - 0s - loss: 0.0263 - accuracy: 0.0000e+00\n",
      "Epoch 99/100\n",
      " - 0s - loss: 0.0263 - accuracy: 0.0000e+00\n",
      "Epoch 100/100\n",
      " - 0s - loss: 0.0255 - accuracy: 0.0000e+00\n"
     ]
    },
    {
     "data": {
      "image/png": "[encoded data removed]",
      "text/plain": [
       "<Figure size 432x288 with 1 Axes>"
      ]
     },
     "metadata": {
      "needs_background": "light"
     },
     "output_type": "display_data"
    }
   ],
   "source": [
    "# 训练模型\n",
    "print(X_train.shape, y_train.shape)\n",
    "history = model.fit(X_train, y_train, epochs=100, verbose=2, shuffle=False)\n",
    "\n",
    "model.save(\"1-1.h5\")\n",
    "\n",
    "# plot history\n",
    "plt.plot(history.history['loss'], label='loss')\n",
    "#plt.plot(history.history['accuracy'], label='train')\n",
    "plt.legend()\n",
    "plt.show()"
   ]
  },
  {
   "cell_type": "code",
   "execution_count": 14,
   "metadata": {},
   "outputs": [],
   "source": [
    "# 自己定义了一个对于涨跌是否正确的计算方法\n",
    "\n",
    "def cal_ac_rate(ori, pre):\n",
    "    ori_r = []\n",
    "    pre_r = []\n",
    "    ac = 0\n",
    "    if ori.shape[0] != pre.shape[0]:\n",
    "        return 0\n",
    "    else:\n",
    "        for i in range(0, ori.shape[0]-1):\n",
    "            if ori[i]-ori[i+1] < 0 :\n",
    "                ori_r.append(1)\n",
    "            if ori[i]-ori[i+1] > 0 :\n",
    "                ori_r.append(-1)\n",
    "            if ori[i]-ori[i+1] == 0 :\n",
    "                ori_r.append(0)\n",
    "                \n",
    "            if pre[i]-pre[i+1] < 0 :\n",
    "                pre_r.append(1)\n",
    "            if pre[i]-pre[i+1] > 0 :\n",
    "                pre_r.append(-1)\n",
    "            if pre[i]-pre[i+1] == 0 :\n",
    "                pre_r.append(0)\n",
    "        for i in range(0, len(ori_r)-1):\n",
    "            if ori_r[i] == pre_r[i]:\n",
    "                ac += 1\n",
    "        \n",
    "        return ac,len(ori_r)"
   ]
  },
  {
   "cell_type": "code",
   "execution_count": 73,
   "metadata": {},
   "outputs": [
    {
     "data": {
      "image/png": "[encoded data removed]",
      "text/plain": [
       "<Figure size 432x288 with 1 Axes>"
      ]
     },
     "metadata": {
      "needs_background": "light"
     },
     "output_type": "display_data"
    },
    {
     "data": {
      "text/plain": [
       "(1989, 3998)"
      ]
     },
     "execution_count": 73,
     "metadata": {},
     "output_type": "execute_result"
    }
   ],
   "source": [
    "# model = load_model('1-1.h5')\n",
    "\n",
    "predictes_stock_price = model.predict(X_train)\n",
    "\n",
    "predictes_stock_price = predictes_stock_price.reshape(predictes_stock_price.shape[0])\n",
    "y_train = y_train.reshape(y_train.shape[0])\n",
    "\n",
    "plt.plot(predictes_stock_price[-30:], label='pre', color='red')\n",
    "plt.plot(y_train[-30:], label='ori', color='blue')\n",
    "plt.legend()\n",
    "plt.show()\n",
    "\n",
    "cal_ac_rate(y_train, predictes_stock_price)"
   ]
  },
  {
   "cell_type": "code",
   "execution_count": 67,
   "metadata": {},
   "outputs": [
    {
     "data": {
      "image/png": "[encoded data removed]",
      "text/plain": [
       "<Figure size 432x288 with 1 Axes>"
      ]
     },
     "metadata": {
      "needs_background": "light"
     },
     "output_type": "display_data"
    },
    {
     "data": {
      "text/plain": [
       "(56, 58)"
      ]
     },
     "execution_count": 67,
     "metadata": {},
     "output_type": "execute_result"
    }
   ],
   "source": [
    "# 测试集数据处理\n",
    "X_test = data_test.loc[:,'close':'vol']\n",
    "X_test = X_test.drop(columns = ['change','pct_chg'])\n",
    "X_test = X_test.values\n",
    "\n",
    "scaler = process.StandardScaler()\n",
    "scaler.fit(X_test)\n",
    "X_test_scalerd = scaler.transform(X_test)\n",
    "y_test = pd.DataFrame(X_test_scalerd)[0].values\n",
    "\n",
    "X_test_scalerd = X_test_scalerd.reshape(X_test_scalerd.shape[0],1, X_test_scalerd.shape[1])\n",
    "\n",
    "pre_test = model.predict(X_test_scalerd)\n",
    "\n",
    "pre_test = pre_test.reshape(pre_test.shape[0])\n",
    "\n",
    "plt.plot(pre_test, label='pre', color='red')\n",
    "plt.plot(y_test, label='ori', color='blue')\n",
    "plt.legend()\n",
    "plt.show()\n",
    "\n",
    "cal_ac_rate(y_test, pre_test)"
   ]
  },
  {
   "cell_type": "code",
   "execution_count": 72,
   "metadata": {},
   "outputs": [
    {
     "data": {
      "image/png": "[encoded data removed]",
      "text/plain": [
       "<Figure size 432x288 with 1 Axes>"
      ]
     },
     "metadata": {
      "needs_background": "light"
     },
     "output_type": "display_data"
    },
    {
     "data": {
      "text/plain": [
       "(53, 58)"
      ]
     },
     "execution_count": 72,
     "metadata": {},
     "output_type": "execute_result"
    }
   ],
   "source": [
    "# 用工商银行测试贵州茅台的模型\n",
    "\n",
    "data_test_2 = stock.get_data(\"601398\", start = '20190901',end = '20191201')\n",
    "\n",
    "X_test_2 = data_test_2.loc[:,'close':'vol']\n",
    "X_test_2 = X_test_2.drop(columns = ['pre_close','pct_chg'])\n",
    "X_test_2 = X_test_2.values\n",
    "\n",
    "scaler = process.StandardScaler()\n",
    "scaler.fit(X_test_2)\n",
    "X_test_scalerd_2 = scaler.transform(X_test_2)\n",
    "y_test_2 = pd.DataFrame(X_test_scalerd_2)[0].values\n",
    "\n",
    "X_test_scalerd_2 = X_test_scalerd_2.reshape(X_test_scalerd_2.shape[0],1, X_test_scalerd_2.shape[1])\n",
    "\n",
    "pre_test_2 = model.predict(X_test_scalerd_2)\n",
    "\n",
    "pre_test_2 = pre_test_2.reshape(pre_test_2.shape[0])\n",
    "\n",
    "plt.plot(pre_test_2, label='pre', color='red')\n",
    "plt.plot(y_test_2, label='ori', color='blue')\n",
    "plt.legend()\n",
    "plt.show()\n",
    "\n",
    "cal_ac_rate(y_test_2, pre_test_2)"
   ]
  },
  {
   "cell_type": "markdown",
   "metadata": {},
   "source": [
    "# 采用21-3的方式进行训练"
   ]
  },
  {
   "cell_type": "code",
   "execution_count": 8,
   "metadata": {},
   "outputs": [
    {
     "name": "stdout",
     "output_type": "stream",
     "text": [
      "(3975, 21, 3) (3975, 3)\n"
     ]
    }
   ],
   "source": [
    "# 把数据处理成（x,21,z）的三维状态，把步长包含进来\n",
    "def deal_data_set(ort_datasets):\n",
    "    X_train_B = []\n",
    "    y_train_B = []\n",
    "    ort_datasets = ort_datasets.reshape(ort_datasets.shape[0],ort_datasets.shape[2])\n",
    "    need_num_x = 21\n",
    "    need_num_y = 3\n",
    "    #每need_num_x个数据为一组，作为测试数据，后need_num_y数据为标签\n",
    "    for i in range(need_num_x, X_scalerd.shape[0]-need_num_y-1):\n",
    "        X_train_B.append(ort_datasets[i-need_num_x: i])\n",
    "        y_train_B.append(ort_datasets[i+1: i+need_num_y+1, 0])\n",
    "\n",
    "    # 将数据转化为数组\n",
    "    X_train_B = np.array(X_train_B)\n",
    "    y_train_B = np.array(y_train_B)\n",
    "    print(X_train_B.shape, y_train_B.shape)\n",
    "    y_train_B = np.reshape(y_train_B, (y_train_B.shape[0],1, y_train_B.shape[1]))\n",
    "    \n",
    "    return X_train_B,y_train_B\n",
    "\n",
    "X_train_B,y_train_B = deal_data_set(X_train)"
   ]
  },
  {
   "cell_type": "code",
   "execution_count": 9,
   "metadata": {},
   "outputs": [
    {
     "name": "stdout",
     "output_type": "stream",
     "text": [
      "Model: \"sequential_1\"\n",
      "_________________________________________________________________\n",
      "Layer (type)                 Output Shape              Param #   \n",
      "=================================================================\n",
      "lstm_1 (LSTM)                (None, 128)               67584     \n",
      "_________________________________________________________________\n",
      "repeat_vector_1 (RepeatVecto (None, 1, 128)            0         \n",
      "_________________________________________________________________\n",
      "dense_1 (Dense)              (None, 1, 16)             2064      \n",
      "_________________________________________________________________\n",
      "dense_2 (Dense)              (None, 1, 3)              51        \n",
      "=================================================================\n",
      "Total params: 69,699\n",
      "Trainable params: 69,699\n",
      "Non-trainable params: 0\n",
      "_________________________________________________________________\n"
     ]
    }
   ],
   "source": [
    "model = Sequential()\n",
    "\n",
    "model.add(LSTM(128, input_shape=(X_train_B.shape[1], X_train.shape[2])))\n",
    "#model.add(Dropout(0.5))\n",
    "\n",
    "model.add(RepeatVector(1))\n",
    "\n",
    "model.add(Dense(16,kernel_initializer=\"uniform\",activation='relu'))\n",
    "model.add(Dense(3,kernel_initializer=\"uniform\",activation='linear'))\n",
    " \n",
    "adam = keras.optimizers.Adam(decay=0.5)\n",
    "model.compile(loss='mae', optimizer='adam', metrics=['accuracy'])\n",
    "model.summary()"
   ]
  },
  {
   "cell_type": "code",
   "execution_count": 10,
   "metadata": {
    "scrolled": true
   },
   "outputs": [
    {
     "name": "stdout",
     "output_type": "stream",
     "text": [
      "Epoch 1/100\n",
      " - 2s - loss: 0.6075 - accuracy: 0.3109\n",
      "Epoch 2/100\n",
      " - 2s - loss: 0.2758 - accuracy: 0.3042\n",
      "Epoch 3/100\n",
      " - 2s - loss: 0.6014 - accuracy: 0.3273\n",
      "Epoch 4/100\n",
      " - 2s - loss: 0.4405 - accuracy: 0.3406\n",
      "Epoch 5/100\n",
      " - 2s - loss: 0.4591 - accuracy: 0.3308\n",
      "Epoch 6/100\n",
      " - 2s - loss: 0.4561 - accuracy: 0.3049\n",
      "Epoch 7/100\n",
      " - 2s - loss: 0.5901 - accuracy: 0.3084\n",
      "Epoch 8/100\n",
      " - 2s - loss: 0.6231 - accuracy: 0.2760\n",
      "Epoch 9/100\n",
      " - 2s - loss: 0.6231 - accuracy: 0.3177\n",
      "Epoch 10/100\n",
      " - 2s - loss: 0.6028 - accuracy: 0.3618\n",
      "Epoch 11/100\n",
      " - 2s - loss: 0.5895 - accuracy: 0.3220\n",
      "Epoch 12/100\n",
      " - 2s - loss: 0.5634 - accuracy: 0.3109\n",
      "Epoch 13/100\n",
      " - 2s - loss: 0.3444 - accuracy: 0.3042\n",
      "Epoch 14/100\n",
      " - 2s - loss: 0.3600 - accuracy: 0.2714\n",
      "Epoch 15/100\n",
      " - 2s - loss: 0.3707 - accuracy: 0.2921\n",
      "Epoch 16/100\n",
      " - 2s - loss: 0.4140 - accuracy: 0.3026\n",
      "Epoch 17/100\n",
      " - 2s - loss: 0.3002 - accuracy: 0.3243\n",
      "Epoch 18/100\n",
      " - 2s - loss: 0.2714 - accuracy: 0.3660\n",
      "Epoch 19/100\n",
      " - 2s - loss: 0.2258 - accuracy: 0.3077\n",
      "Epoch 20/100\n",
      " - 2s - loss: 0.2592 - accuracy: 0.3321\n",
      "Epoch 21/100\n",
      " - 2s - loss: 0.1870 - accuracy: 0.2906\n",
      "Epoch 22/100\n",
      " - 2s - loss: 0.1867 - accuracy: 0.3668\n",
      "Epoch 23/100\n",
      " - 2s - loss: 0.0852 - accuracy: 0.3394\n",
      "Epoch 24/100\n",
      " - 2s - loss: 0.1121 - accuracy: 0.3333\n",
      "Epoch 25/100\n",
      " - 2s - loss: 0.1129 - accuracy: 0.3494\n",
      "Epoch 26/100\n",
      " - 2s - loss: 0.1443 - accuracy: 0.3623\n",
      "Epoch 27/100\n",
      " - 2s - loss: 0.1000 - accuracy: 0.3384\n",
      "Epoch 28/100\n",
      " - 2s - loss: 0.1099 - accuracy: 0.3346\n",
      "Epoch 29/100\n",
      " - 2s - loss: 0.0778 - accuracy: 0.3401\n",
      "Epoch 30/100\n",
      " - 2s - loss: 0.0914 - accuracy: 0.3278\n",
      "Epoch 31/100\n",
      " - 2s - loss: 0.0844 - accuracy: 0.3381\n",
      "Epoch 32/100\n",
      " - 2s - loss: 0.0968 - accuracy: 0.3358\n",
      "Epoch 33/100\n",
      " - 2s - loss: 0.0802 - accuracy: 0.3323\n",
      "Epoch 34/100\n",
      " - 2s - loss: 0.0696 - accuracy: 0.3421\n",
      "Epoch 35/100\n",
      " - 2s - loss: 0.0550 - accuracy: 0.3665\n",
      "Epoch 36/100\n",
      " - 2s - loss: 0.0533 - accuracy: 0.3600\n",
      "Epoch 37/100\n",
      " - 2s - loss: 0.0453 - accuracy: 0.3542\n",
      "Epoch 38/100\n",
      " - 2s - loss: 0.0568 - accuracy: 0.3484\n",
      "Epoch 39/100\n",
      " - 2s - loss: 0.0562 - accuracy: 0.3263\n",
      "Epoch 40/100\n",
      " - 2s - loss: 0.0615 - accuracy: 0.3686\n",
      "Epoch 41/100\n",
      " - 2s - loss: 0.0773 - accuracy: 0.3353\n",
      "Epoch 42/100\n",
      " - 2s - loss: 0.0786 - accuracy: 0.3333\n",
      "Epoch 43/100\n",
      " - 2s - loss: 0.0652 - accuracy: 0.3587\n",
      "Epoch 44/100\n",
      " - 2s - loss: 0.0897 - accuracy: 0.3681\n",
      "Epoch 45/100\n",
      " - 2s - loss: 0.0795 - accuracy: 0.3213\n",
      "Epoch 46/100\n",
      " - 2s - loss: 0.0807 - accuracy: 0.3457\n",
      "Epoch 47/100\n",
      " - 2s - loss: 0.0621 - accuracy: 0.3328\n",
      "Epoch 48/100\n",
      " - 2s - loss: 0.0632 - accuracy: 0.3462\n",
      "Epoch 49/100\n",
      " - 2s - loss: 0.0592 - accuracy: 0.3436\n",
      "Epoch 50/100\n",
      " - 2s - loss: 0.0609 - accuracy: 0.3092\n",
      "Epoch 51/100\n",
      " - 2s - loss: 0.0505 - accuracy: 0.3560\n",
      "Epoch 52/100\n",
      " - 2s - loss: 0.0518 - accuracy: 0.2961\n",
      "Epoch 53/100\n",
      " - 2s - loss: 0.0589 - accuracy: 0.3565\n",
      "Epoch 54/100\n",
      " - 2s - loss: 0.0570 - accuracy: 0.3004\n",
      "Epoch 55/100\n",
      " - 2s - loss: 0.0835 - accuracy: 0.3464\n",
      "Epoch 56/100\n",
      " - 2s - loss: 0.0669 - accuracy: 0.3265\n",
      "Epoch 57/100\n",
      " - 2s - loss: 0.0826 - accuracy: 0.3275\n",
      "Epoch 58/100\n",
      " - 2s - loss: 0.0693 - accuracy: 0.3296\n",
      "Epoch 59/100\n",
      " - 2s - loss: 0.0677 - accuracy: 0.3509\n",
      "Epoch 60/100\n",
      " - 2s - loss: 0.0522 - accuracy: 0.3457\n",
      "Epoch 61/100\n",
      " - 2s - loss: 0.0532 - accuracy: 0.3482\n",
      "Epoch 62/100\n",
      " - 2s - loss: 0.0527 - accuracy: 0.3394\n",
      "Epoch 63/100\n",
      " - 2s - loss: 0.0520 - accuracy: 0.3449\n",
      "Epoch 64/100\n",
      " - 2s - loss: 0.0540 - accuracy: 0.3462\n",
      "Epoch 65/100\n",
      " - 2s - loss: 0.0632 - accuracy: 0.3434\n",
      "Epoch 66/100\n",
      " - 2s - loss: 0.0546 - accuracy: 0.3442\n",
      "Epoch 67/100\n",
      " - 2s - loss: 0.0725 - accuracy: 0.3270\n",
      "Epoch 68/100\n",
      " - 2s - loss: 0.0636 - accuracy: 0.3482\n",
      "Epoch 69/100\n",
      " - 2s - loss: 0.0808 - accuracy: 0.3459\n",
      "Epoch 70/100\n",
      " - 2s - loss: 0.0633 - accuracy: 0.3180\n",
      "Epoch 71/100\n",
      " - 2s - loss: 0.0613 - accuracy: 0.3429\n",
      "Epoch 72/100\n",
      " - 2s - loss: 0.0509 - accuracy: 0.3507\n",
      "Epoch 73/100\n",
      " - 2s - loss: 0.0488 - accuracy: 0.3223\n",
      "Epoch 74/100\n",
      " - 2s - loss: 0.0429 - accuracy: 0.3301\n",
      "Epoch 75/100\n",
      " - 2s - loss: 0.0413 - accuracy: 0.3084\n",
      "Epoch 76/100\n",
      " - 2s - loss: 0.0417 - accuracy: 0.3369\n",
      "Epoch 77/100\n",
      " - 2s - loss: 0.0491 - accuracy: 0.3426\n",
      "Epoch 78/100\n",
      " - 2s - loss: 0.0473 - accuracy: 0.3396\n",
      "Epoch 79/100\n",
      " - 2s - loss: 0.0506 - accuracy: 0.3396\n",
      "Epoch 80/100\n",
      " - 2s - loss: 0.0599 - accuracy: 0.3117\n",
      "Epoch 81/100\n",
      " - 2s - loss: 0.0396 - accuracy: 0.3283\n",
      "Epoch 82/100\n",
      " - 2s - loss: 0.0614 - accuracy: 0.3366\n",
      "Epoch 83/100\n",
      " - 2s - loss: 0.0509 - accuracy: 0.3311\n",
      "Epoch 84/100\n",
      " - 2s - loss: 0.0593 - accuracy: 0.3114\n",
      "Epoch 85/100\n",
      " - 2s - loss: 0.0419 - accuracy: 0.3522\n",
      "Epoch 86/100\n",
      " - 2s - loss: 0.0485 - accuracy: 0.3351\n",
      "Epoch 87/100\n",
      " - 2s - loss: 0.0384 - accuracy: 0.3323\n",
      "Epoch 88/100\n",
      " - 2s - loss: 0.0473 - accuracy: 0.3185\n",
      "Epoch 89/100\n",
      " - 2s - loss: 0.0425 - accuracy: 0.3255\n",
      "Epoch 90/100\n",
      " - 2s - loss: 0.0622 - accuracy: 0.3321\n",
      "Epoch 91/100\n",
      " - 2s - loss: 0.0459 - accuracy: 0.3424\n",
      "Epoch 92/100\n",
      " - 2s - loss: 0.0690 - accuracy: 0.3580\n",
      "Epoch 93/100\n",
      " - 2s - loss: 0.0464 - accuracy: 0.3230\n",
      "Epoch 94/100\n",
      " - 3s - loss: 0.0666 - accuracy: 0.3356\n",
      "Epoch 95/100\n",
      " - 2s - loss: 0.0511 - accuracy: 0.3104\n",
      "Epoch 96/100\n",
      " - 3s - loss: 0.0548 - accuracy: 0.3369\n",
      "Epoch 97/100\n",
      " - 3s - loss: 0.0415 - accuracy: 0.3336\n",
      "Epoch 98/100\n",
      " - 3s - loss: 0.0432 - accuracy: 0.3567\n",
      "Epoch 99/100\n",
      " - 2s - loss: 0.0398 - accuracy: 0.3042\n",
      "Epoch 100/100\n",
      " - 2s - loss: 0.0471 - accuracy: 0.3557\n"
     ]
    }
   ],
   "source": [
    "history = model.fit(X_train_B, y_train_B, epochs=100, verbose=2, shuffle=False)\n",
    "model.save(\"21-3.h5\")\n"
   ]
  },
  {
   "cell_type": "code",
   "execution_count": 11,
   "metadata": {},
   "outputs": [
    {
     "data": {
      "image/png": "[encoded data removed]",
      "text/plain": [
       "<Figure size 432x288 with 1 Axes>"
      ]
     },
     "metadata": {
      "needs_background": "light"
     },
     "output_type": "display_data"
    }
   ],
   "source": [
    "plt.plot(history.history['loss'], label='loss')\n",
    "plt.plot(history.history['accuracy'], label='ac')\n",
    "plt.legend()\n",
    "plt.show()"
   ]
  },
  {
   "cell_type": "code",
   "execution_count": 12,
   "metadata": {},
   "outputs": [],
   "source": [
    "# 直接上手测试\n",
    "\n",
    "data_test_3 = stock.get_data(\"600519\", start = '20190901',end = '20191206')\n",
    "\n",
    "X_test_3 = data_test_3.loc[:,'close':'vol']\n",
    "X_test_3 = X_test_3.drop(columns = ['pre_close','pct_chg'])\n",
    "X_test_3 = X_test_3.values\n",
    "\n",
    "scaler = process.StandardScaler()\n",
    "scaler.fit(X_test_3)\n",
    "X_test_scalerd_3 = scaler.transform(X_test_3)\n",
    "\n",
    "X_test_3 = []\n",
    "for i in range(21, X_test_scalerd_3.shape[0]-3):\n",
    "    X_test_3.append(X_test_scalerd_3[i-21: i])\n",
    "\n",
    "X_test_3 = np.array(X_test_3)\n",
    "y_test_3 = X_test_scalerd_3[22:, 0]\n",
    "\n",
    "# 预测\n",
    "# model = load_model(\"21-5.h5\")\n",
    "pre_test_3 = model.predict(X_test_3)\n",
    "\n",
    "pre_test_3 = pre_test_3.reshape(pre_test_3.shape[0],pre_test_3.shape[2])"
   ]
  },
  {
   "cell_type": "code",
   "execution_count": 15,
   "metadata": {},
   "outputs": [
    {
     "data": {
      "image/png": "[encoded data removed]",
      "text/plain": [
       "<Figure size 432x288 with 1 Axes>"
      ]
     },
     "metadata": {
      "needs_background": "light"
     },
     "output_type": "display_data"
    },
    {
     "name": "stdout",
     "output_type": "stream",
     "text": [
      "22 80 0.275\n"
     ]
    }
   ],
   "source": [
    "pre_test_3_2 = [0,0]\n",
    "cor = 0\n",
    "num_all = 0\n",
    "for i in range(0, pre_test_3.shape[0]):\n",
    "    pre_test_3_2[i] += pre_test_3[i,0]\n",
    "    pre_test_3_2[i+1] += pre_test_3[i,1]\n",
    "    pre_test_3_2.append(pre_test_3[i,2])\n",
    "    \n",
    "    y_test_3_2 = [y_test_3[i],y_test_3[i+1],y_test_3[i+2]]\n",
    "    y_test_3_2 = np.array(y_test_3_2)\n",
    "    pre_test_3_2_2 = [pre_test_3[i,0],pre_test_3[i,1],pre_test_3[i,2]]\n",
    "    pre_test_3_2_2 = np.array(pre_test_3_2_2)\n",
    "    \n",
    "    a,b = cal_ac_rate(y_test_3_2, pre_test_3_2_2)\n",
    "    cor += a\n",
    "    num_all += b \n",
    "\n",
    "for i in range(2,pre_test_3.shape[0]-2):\n",
    "    pre_test_3_2[i] /= 3\n",
    "    \n",
    "pre_test_3_2 = np.array(pre_test_3_2)\n",
    "\n",
    "plt.plot(pre_test_3_2, label='pre', color='red')\n",
    "plt.plot(y_test_3, label='ori', color='blue')\n",
    "plt.legend()\n",
    "plt.show()\n",
    "\n",
    "print(cor, num_all, cor/num_all)"
   ]
  },
  {
   "cell_type": "markdown",
   "metadata": {},
   "source": [
    "# 总结：\n",
    "## 股市有风险！投资需谨慎！"
   ]
  },
  {
   "cell_type": "code",
   "execution_count": null,
   "metadata": {},
   "outputs": [],
   "source": []
  }
 ],
 "metadata": {
  "kernelspec": {
   "display_name": "Python 3",
   "language": "python",
   "name": "python3"
  },
  "language_info": {
   "codemirror_mode": {
    "name": "ipython",
    "version": 3
   },
   "file_extension": ".py",
   "mimetype": "text/x-python",
   "name": "python",
   "nbconvert_exporter": "python",
   "pygments_lexer": "ipython3",
   "version": "3.7.3"
  }
 },
 "nbformat": 4,
 "nbformat_minor": 2
}
